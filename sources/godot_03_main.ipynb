{
 "cells": [
  {
   "cell_type": "markdown",
   "id": "d0309098",
   "metadata": {},
   "source": [
    "# Timer, part 3"
   ]
  },
  {
   "cell_type": "markdown",
   "id": "b54513f8",
   "metadata": {},
   "source": [
    "Dans cette troisième partie, nous allons :\n",
    "\n",
    "1. animer le menu de configuration pour le faire apparaître ou disparaître lorsque l'utilisateur agit sur l'interface \n",
    "2. refactorer le code pour le rendre plus lisible et éviter les copiers/coller\n",
    "3. refactorer la structure de l'application pour différencier l'interface graphique (GUI) de la partie logique (par exemple la gestion du Timer)\n",
    "4. ajouter un timer et le manipuler simplement"
   ]
  },
  {
   "cell_type": "markdown",
   "id": "46119148",
   "metadata": {},
   "source": [
    "## 1. Menu configuration"
   ]
  },
  {
   "cell_type": "markdown",
   "id": "fd9721be",
   "metadata": {},
   "source": [
    "### Mise en place de l'animation"
   ]
  },
  {
   "cell_type": "markdown",
   "id": "80973c7a",
   "metadata": {},
   "source": [
    "- modifier le code de `main.gd`\n",
    "  - lier les nodes `Main` et `ConfigMenu` aux variables `main` et `configMenu`\n",
    "  - dans un premier temps, modifier les propriétés `rect_position` de la variable `configMenu` :\n",
    "    - à `Vector2(100, 500)` pour cacher le menu\n",
    "    - à `Vector2(100, 200)` pour afficher le menu\n",
    "\n",
    "![](./2021-12-28/img_1.png)\n",
    "\n",
    "![](./2021-12-28/img_2.png)"
   ]
  },
  {
   "cell_type": "markdown",
   "id": "ad0edc68",
   "metadata": {},
   "source": [
    "- puisque l'animation fonctionne, mettre les bonnes valeurs pour la position du node `ConfigMenu`\n",
    "\n",
    "![](./2021-12-28/img_3.png)"
   ]
  },
  {
   "cell_type": "markdown",
   "id": "b4c6ea36",
   "metadata": {},
   "source": [
    "#### Lancer l'animation en cliquant sur le bouton retour\n",
    "\n",
    "Dans la scène principale\n",
    "\n",
    "- sélectionner le node `BackButton`\n",
    "  - connecter le signal `gui_input(event)`\n",
    "  - au script du node `App`\n",
    "\n",
    "![](./2021-12-28/img_4.png)\n",
    "\n",
    "![](./2021-12-28/img_5.png)\n",
    "\n",
    "- copier le code de la fonction `_on_ConfigButton_gui_input(event)` dans la nouvelle fonction `_on_BackButton_gui_input(event)`\n",
    "- lancer l'application et un clic sur le bouton retour du node `ConfigMenu` lance l'animation et masque le menu\n",
    "\n",
    "![](./2021-12-28/img_6.png)\n",
    "\n",
    "![](./2021-12-28/img_7.png)\n",
    "\n",
    "\n",
    "#### Lancer l'animation en cliquant sur le fond violet de l'écran principal (le node `Main`)\n",
    "\n",
    "- sélectionner le node `Main`\n",
    "  - connecter son signal `_gui_input(event)`\n",
    "  - au script du node `App`\n",
    "- dans le script `main.gd`\n",
    "  - copier le code de la fonction `_on_ConfigButton_gui_input(event)` dans la nouvelle fonction `_on_Main_gui_input(event)`\n",
    "\n",
    "![](./2021-12-28/img_8.png)\n",
    "\n",
    "![](./2021-12-28/img_9.png)\n",
    "\n",
    "![](./2021-12-28/img_10.png)\n",
    "\n",
    "\n",
    "Vérifier que tout fonctionner.\n"
   ]
  },
  {
   "cell_type": "markdown",
   "id": "968c3fa4",
   "metadata": {},
   "source": [
    "## 2. Refactorer le code"
   ]
  },
  {
   "cell_type": "markdown",
   "id": "6298555e",
   "metadata": {},
   "source": [
    "Le code que nous avons créé comporte de nombreux copiers/coller. Un bon programmeur est fainéant et évite de multiplier des lignes et des lignes de code identique. Cela pour de nombreuses raisons comme :\n",
    "\n",
    "- rendre le code plus lisible\n",
    "- pour modifier une partie du code, éviter d'avoir à faire la même modification à chaque endroit *coller*\n",
    "- en cas d'erreur dans le code, éviter d'avoir à corriger le code dans autant de ligne que de *coller*\n",
    "- etc.\n",
    "\n",
    "\n",
    "#### créer une fonction animation\n",
    "\n",
    "Dans ce code nous voyons donc que nous exécutant à trois endroits différents un code permettant d'animer le menu. Au lieu de faire du copier/coller, nous allons créer une fonction qui s'occupe d'animer le menu configuration puis, aux trois endroits différents, nous allons simplement appeler la fonction."
   ]
  },
  {
   "cell_type": "markdown",
   "id": "58bb5210",
   "metadata": {},
   "source": [
    "- dans le script `main.gd`\n",
    "  - sélectionner le code de la fonction `_on_ConfigButton_gui_input(event)` qui suit l'instruction `BUTTON_LEFT:`\n",
    "  - couper ce code\n",
    "  - et le remplacer par le nom de la fonction que nous allons créer : `animConfigMenu()`\n",
    "- juste avant la fonction `_on_ConfigButton_gui_input(event)` :\n",
    "  - créer une fonction `animConfigMenu()`\n",
    "  - coller le code précédent\n",
    "  - décaler le code collé pour qu'il n'y ai qu'une seule indentation (tabulation)\n",
    "\n",
    "![](./2021-12-28/img_11.png)\n",
    "\n",
    "![](./2021-12-28/img_12.png)\n",
    "\n",
    "Si tout va bien, l'application fonctionne exactement de la même façon."
   ]
  },
  {
   "cell_type": "markdown",
   "id": "540122ab",
   "metadata": {},
   "source": [
    "Maintenant, simplifions de la même façon les deux autres fonctions qui utilisent l'animation :\n",
    "\n",
    "- `_on_BackButton_gui_input(event)`\n",
    "- `_on_Main_gui_input(event)`\n",
    "\n",
    "\n",
    "![](./2021-12-28/img_13.png)\n"
   ]
  },
  {
   "cell_type": "markdown",
   "id": "24d30493",
   "metadata": {},
   "source": [
    "#### créer une fonction cacher menu\n",
    "\n",
    "De même, nous allons isoler les trois lignes permettant de cacher le menu configuration dans une fonction dédiée à cela :\n",
    "\n",
    "- dans la fonction `animConfiMenu()`\n",
    "  - couper les trois lignes comprises entre `if menuConfigVisible:` et `else:`\n",
    "  - remplacer ces 3 lignes par un appel à la fonction `hideConfigMenu`\n",
    "- juste au dessus de  la fonction `animConfiMenu()`\n",
    "  - créer la fonction `hideConfigMenu()`\n",
    "  - coller le code\n",
    "  - modifier l'indentation pour qu'il n'y ai qu'une seule tabulation\n",
    "\n",
    "\n",
    "![](./2021-12-28/img_14.png)"
   ]
  },
  {
   "cell_type": "markdown",
   "id": "6671a184",
   "metadata": {},
   "source": [
    "Si l'application fonctionne toujours, utilisons la fonction `hideConfigMenu()` partout où elle sera utile :\n",
    "\n",
    "\n",
    "- dans la fonction `_ready()` pour cacher le menu dès que l'application s'affiche à l'écran\n",
    "  - remplacer `pass` par un appel à la fonction `hideConfigMenu()`. C\n",
    "- dans `_on_BackButton_gui_input` pour cacher le menu au lieu de l'animer\n",
    "- dans `_on_Main_gui_input` pour cacher le menu par un clic sur le fond (et pour ne pas le réafficher...)\n",
    "\n",
    "\n",
    "\n",
    "![](./2021-12-28/img_15.png)\n",
    "\n",
    "![](./2021-12-28/img_16.png)"
   ]
  },
  {
   "cell_type": "markdown",
   "id": "51b89146",
   "metadata": {},
   "source": [
    "## 3. Structure de l'application"
   ]
  },
  {
   "cell_type": "markdown",
   "id": "9014264d",
   "metadata": {},
   "source": [
    "Nous allons modifier l'application pour différencier la partie *interface graphique* de la partie logique.\n",
    "\n",
    "En effet, nous allons bientôt mettre en place le chronomètre. Le code du chronomètre n'a rien à faire avec le code qui gère les menus et les affichages.\n",
    "Il faut que l'application soit mieux structurée. Nous allons pour cela créer un nœud de contrôle `GUI` qui va contenir toute la partie interface graphique utilisateur (les panneaux et le code permettant de les modifier).\n",
    "\n",
    "#### ajouter un node GUI\n",
    "\n",
    "- sélectionner le node racine `App`\n",
    "  - ajouter un node de type `Control`\n",
    "  - le renommer en `GUI`\n",
    "  - déplacer les node `Main` et `ConfigMenu` comme enfant de `GUI`\n",
    "  - modifier le node `GUI` en choisissant une `Disposition sur l'écran` de type `Rectangle Complet`\n",
    "\n",
    "\n",
    "![](./2021-12-28/img_17.png)\n",
    "\n",
    "![](./2021-12-28/img_18.png)\n",
    "\n",
    "![](./2021-12-28/img_19.png)\n",
    "\n",
    "\n",
    "#### associer le code créer à GUI\n",
    "\n",
    "- sélectionner le node racine `App`\n",
    "  - supprimer le scipt qui lui est associé\n",
    "- sélectionner le node `GUI`\n",
    "  - `charger` le script `main.gd` pour lui associé tout le code permettant de gérer les affichages de menus et les interactions avec l'utilisateur\n",
    "\n",
    "\n",
    "![](./2021-12-28/img_20.png)\n",
    "\n",
    "![](./2021-12-28/img_21.png)\n",
    "\n",
    "![](./2021-12-28/img_22.png)\n",
    "\n",
    "\n",
    "#### mettre à jour les signaux pour les connecter au nouveau node GUI\n",
    "\n",
    "En l'état, l'application ne fonctionne plus car les signaux de type `gui_input` émis par `Main`, `BackButton` et `ConfigButton` sont connectés au node `App`.\n",
    "\n",
    "Or le node `App` ne possède plus le script permettant de réceptionner ces signaux et de les gérer. C'est le node `GUI` qui est désormais responsable de cela !\n",
    "\n",
    "Il faut donc modifier ces trois signaux pour les connecter au bon nœud :\n",
    "\n",
    "- sélectionner le node `Main`\n",
    "  - sélectionner le signal `gui_input(event)\n",
    "  - et le modifier : `clic-droit > Édition...`\n",
    "  - et sélectionner `GUI`\n",
    "  - puis cliquer sur `Connecter`\n",
    "\n",
    "- refaire cette manipulation avec les nodes \n",
    "  - `ConfigButton`\n",
    "  - `BackButton`\n",
    "\n",
    "![](./2021-12-28/img_23.png)\n",
    "\n",
    "![](./2021-12-28/img_24.png)\n",
    "\n",
    "![](./2021-12-28/img_25.png)\n",
    "\n",
    "![](./2021-12-28/img_26.png)\n",
    "\n",
    "![](./2021-12-28/img_27.png)"
   ]
  },
  {
   "cell_type": "markdown",
   "id": "18f2c423",
   "metadata": {},
   "source": [
    "## 4. Ajout du chronomètre : le `Timer`"
   ]
  },
  {
   "cell_type": "markdown",
   "id": "f3cf40a3",
   "metadata": {},
   "source": [
    "- sélectionner le node racine `App`\n",
    "- ajouter un enfant de type `Timer` puis :\n",
    "  - ajouter un nouveau script `timer.gd`\n",
    "\n",
    "![](./2021-12-28/img_28.png)\n",
    "\n",
    "![](./2021-12-28/img_29.png)\n",
    "\n",
    "![](./2021-12-28/img_30.png)"
   ]
  },
  {
   "cell_type": "markdown",
   "id": "eba1a75b",
   "metadata": {},
   "source": [
    "Créons un bouton sur l'interface graphique pour démarrer le chronomètre\n",
    "\n",
    "- (1) sélectionner le node `TextTimer`\n",
    "  - (2) ajouter un enfant de type `ColorRect`\n",
    "- (3) sélectionner `ColorRect`\n",
    "  - (4) modifier sa taille et sa position pour qu'il soit à droite du texte\n",
    "  - (5) ajouter un signal (6) `gui_input(event)` et (7) le connecter au `Timer`\n",
    "\n",
    "\n",
    "![](./2021-12-28/img_31.png)\n",
    "\n",
    "![](./2021-12-28/img_32.png)\n"
   ]
  },
  {
   "cell_type": "markdown",
   "id": "3c583f64",
   "metadata": {},
   "source": [
    "Modifier le script `timer.gd` associé au chronomètre `Timer` :\n",
    "\n",
    "- (1) créer une variable `timer` qui permettra de modifier le node `Timer`\n",
    "- (2) modifier la fonction `_process(delta)` pour que 10 fois par seconde (si le projet est configuré en *10 FPS*) la durée restant du chronomètre s'affiche\n",
    "- (3) modifier `_on_ColorRect_gui_input` pour qu'un clic gauche sur le bouton active un chronomètre de 10 secondes.\n",
    "\n",
    "\n",
    "![](./2021-12-28/img_33.png)\n",
    "\n",
    "\n",
    "Tester l'application et si tout va bien, tant qu'on ne clique pas sur le node `ColorRect`, un `0` s'affiche en permanence et si on clique sur le node, un compte à rebours de 10 seconde s'active.\n",
    "\n",
    "Ce compte à rebours ne s'arrête jamais puisque le script ne détecte pas que le chronomètre a atteint `0`. Pour cela, nous allons mettre en place en signal.\n",
    "\n",
    "- sélectionner le node `Timer`\n",
    "  - connecter son signal `timeout()` au script du node `Timer`\n",
    "- modifier le script `timer.gd`\n",
    "\n",
    "![](./2021-12-28/img_34.png)\n",
    "\n",
    "![](./2021-12-28/img_35.png)\n",
    "\n",
    "![](./2021-12-28/img_36.png)"
   ]
  },
  {
   "cell_type": "markdown",
   "id": "981c7910",
   "metadata": {},
   "source": [
    "En étudiant l'aide relative au node de type `Timer`, nous voyons qu'un timer possède une méthode (une fonction) `is_stopped` qui renvoie un booléen (vrai ou faux) indiquant si le compteur est arrêté ou pas.\n",
    "\n",
    "Nous allons utilisé cette méthode pour éviter d'afficher `0` en permanence et n'afficher le temps restant que lorsque le chronomète est activé.\n",
    "\n",
    "- sélectionner le script `timer.gd`\n",
    "  - modifier la fonction `_process(delta)` en ajoutant la condition *si le chronomètre n'est pas arrêté*.\n",
    "\n",
    "\n",
    "![](./2021-12-28/img_37.png)\n",
    "\n",
    "![](./2021-12-28/img_38.png)"
   ]
  }
 ],
 "metadata": {
  "kernelspec": {
   "display_name": "Python 3",
   "language": "python",
   "name": "python3"
  },
  "language_info": {
   "codemirror_mode": {
    "name": "ipython",
    "version": 3
   },
   "file_extension": ".py",
   "mimetype": "text/x-python",
   "name": "python",
   "nbconvert_exporter": "python",
   "pygments_lexer": "ipython3",
   "version": "3.9.2"
  }
 },
 "nbformat": 4,
 "nbformat_minor": 5
}
