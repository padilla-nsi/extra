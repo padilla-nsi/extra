{
 "cells": [
  {
   "cell_type": "markdown",
   "id": "revised-cosmetic",
   "metadata": {},
   "source": [
    "- Nouveau projet\n",
    "- changer la taille : 720 × 1280\n",
    "- diminué le FPS : 30 images/s\n",
    "- ajouté panneau Main + Label\n",
    "- ajouté la police d'écrite roboto regular\n",
    "- modifié le thème\n",
    "...\n",
    "\n",
    "\n",
    "- charger l'icone menu\n",
    "    - sur le site 'google fonts' : fonts.google.com\n",
    "    - écrire 'para' puis\n",
    "        - changer size => 48 \n",
    "        - color => white\n",
    "        - SVG pour télécharger\n",
    "        - enregistrer le fichier\n",
    "        - faire glisser le fichier téléchargé dans le système de fichiers Godot\n",
    "        \n",
    "- changer la couleur du panneau\n",
    "    - Theme override > Style > Nouveau Style BoxFlat\n",
    "    - cliquer sur StyleBoxFlat puis sur Bgcolor\n",
    "    - choisir pour le panneau : `29082e`\n",
    "    \n",
    "- changer la couleur de fond du projet\n",
    "    - Projet > paramètre > \n",
    "    - rechercher le terme 'color'\n",
    "    - Environnement > Dfault color : `d94bc9`\n"
   ]
  }
 ],
 "metadata": {
  "kernelspec": {
   "display_name": "Python 3",
   "language": "python",
   "name": "python3"
  },
  "language_info": {
   "codemirror_mode": {
    "name": "ipython",
    "version": 3
   },
   "file_extension": ".py",
   "mimetype": "text/x-python",
   "name": "python",
   "nbconvert_exporter": "python",
   "pygments_lexer": "ipython3",
   "version": "3.9.2"
  }
 },
 "nbformat": 4,
 "nbformat_minor": 5
}
