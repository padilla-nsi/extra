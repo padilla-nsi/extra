{
 "cells": [
  {
   "cell_type": "markdown",
   "id": "d0309098",
   "metadata": {},
   "source": [
    "# Timer, part 3"
   ]
  },
  {
   "cell_type": "markdown",
   "id": "b54513f8",
   "metadata": {},
   "source": [
    "Dans cette troisième partie, nous allons :\n",
    "\n",
    "1. animer le menu de configuration pour le faire apparaître ou disparaître lorsque l'utilisateur agit sur l'interface \n",
    "2. refactorer le code pour le rendre plus lisible et éviter les copiers/coller\n",
    "3. refactorer la structure de l'application pour différencier l'interface graphique (GUI) de la partie logique (par exemple la gestion du Timer)\n",
    "4. ajouter un timer et le manipuler simplement"
   ]
  },
  {
   "cell_type": "markdown",
   "id": "46119148",
   "metadata": {},
   "source": [
    "## 1. Menu configuration"
   ]
  },
  {
   "cell_type": "markdown",
   "id": "fd9721be",
   "metadata": {},
   "source": [
    "### Mise en place de l'animation"
   ]
  },
  {
   "cell_type": "markdown",
   "id": "80973c7a",
   "metadata": {},
   "source": [
    "- modifier le code de `main.gd`\n",
    "  - lier les nodes `Main` et `ConfigMenu` aux variables `main` et `configMenu`\n",
    "  - dans un premier temps, modifier les propriétés `rect_position` de la variable `configMenu` :\n",
    "    - à `Vector2(100, 500)` pour cacher le menu\n",
    "    - à `Vector2(100, 200)` pour afficher le menu\n",
    "\n",
    "![](./2021-12-28/img_1.png)\n",
    "\n",
    "![](./2021-12-28/img_2.png)"
   ]
  },
  {
   "cell_type": "markdown",
   "id": "ad0edc68",
   "metadata": {},
   "source": [
    "- puisque l'animation fonctionne, mettre les bonnes valeurs pour la position du node `ConfigMenu`\n",
    "\n",
    "![](./2021-12-28/img_3.png)"
   ]
  },
  {
   "cell_type": "markdown",
   "id": "b4c6ea36",
   "metadata": {},
   "source": [
    "#### Lancer l'animation en cliquant sur le bouton retour\n",
    "\n",
    "Dans la scène principale\n",
    "\n",
    "- sélectionner le node `BackButton`\n",
    "  - connecter le signal `gui_input(event)`\n",
    "  - au script du node `App`\n",
    "\n",
    "![](./2021-12-28/img_4.png)\n",
    "\n",
    "![](./2021-12-28/img_5.png)\n",
    "\n",
    "- copier le code de la fonction `_on_ConfigButton_gui_input(event)` dans la nouvelle fonction `_on_BackButton_gui_input(event)`\n",
    "- lancer l'application et un clic sur le bouton retour du node `ConfigMenu` lance l'animation et masque le menu\n",
    "\n",
    "![](./2021-12-28/img_6.png)\n",
    "\n",
    "![](./2021-12-28/img_7.png)\n",
    "\n",
    "\n",
    "#### Lancer l'animation en cliquant sur le fond violet de l'écran principal (le node `Main`)\n",
    "\n",
    "- sélectionner le node `Main`\n",
    "  - connecter son signal `_gui_input(event)`\n",
    "  - au script du node `App`\n",
    "- dans le script `main.gd`\n",
    "  - copier le code de la fonction `_on_ConfigButton_gui_input(event)` dans la nouvelle fonction `_on_Main_gui_input(event)`\n",
    "\n",
    "![](./2021-12-28/img_8.png)\n",
    "\n",
    "![](./2021-12-28/img_9.png)\n",
    "\n",
    "![](./2021-12-28/img_10.png)\n",
    "\n",
    "\n",
    "Vérifier que tout fonctionner.\n"
   ]
  },
  {
   "cell_type": "markdown",
   "id": "968c3fa4",
   "metadata": {},
   "source": [
    "## 2. Refactorer le code"
   ]
  },
  {
   "cell_type": "markdown",
   "id": "6298555e",
   "metadata": {},
   "source": [
    "Le code que nous avons créé comporte de nombreux copiers/coller. Un bon programmeur est fainéant et évite de multiplier des lignes et des lignes de code identique. Cela pour de nombreuses raisons comme :\n",
    "\n",
    "- rendre le code plus lisible\n",
    "- pour modifier une partie du code, éviter d'avoir à faire la même modification à chaque endroit *coller*\n",
    "- en cas d'erreur dans le code, éviter d'avoir à corriger le code dans autant de ligne que de *coller*\n",
    "- etc.\n",
    "\n",
    "\n",
    "#### créer une fonction animation\n",
    "\n",
    "Dans ce code nous voyons donc que nous exécutant à trois endroits différents un code permettant d'animer le menu. Au lieu de faire du copier/coller, nous allons créer une fonction qui s'occupe d'animer le menu configuration puis, aux trois endroits différents, nous allons simplement appeler la fonction."
   ]
  },
  {
   "cell_type": "markdown",
   "id": "58bb5210",
   "metadata": {},
   "source": [
    "- dans le script `main.gd`\n",
    "  - sélectionner le code de la fonction `_on_ConfigButton_gui_input(event)` qui suit l'instruction `BUTTON_LEFT:`\n",
    "  - couper ce code\n",
    "  - et le remplacer par le nom de la fonction que nous allons créer : `animConfigMenu()`\n",
    "- juste avant la fonction `_on_ConfigButton_gui_input(event)` :\n",
    "  - créer une fonction `animConfigMenu()`\n",
    "  - coller le code précédent\n",
    "  - décaler le code collé pour qu'il n'y ai qu'une seule indentation (tabulation)\n",
    "\n",
    "![](./2021-12-28/img_11.png)\n",
    "\n",
    "![](./2021-12-28/img_12.png)\n",
    "\n",
    "Si tout va bien, l'application fonctionne exactement de la même façon."
   ]
  },
  {
   "cell_type": "markdown",
   "id": "540122ab",
   "metadata": {},
   "source": [
    "Maintenant, simplifions de la même façon les deux autres fonctions qui utilisent l'animation :\n",
    "\n",
    "- `_on_BackButton_gui_input(event)`\n",
    "- `_on_Main_gui_input(event)`\n",
    "\n",
    "\n",
    "![](./2021-12-28/img_13.png)\n"
   ]
  },
  {
   "cell_type": "markdown",
   "id": "24d30493",
   "metadata": {},
   "source": [
    "#### créer une fonction cacher menu\n",
    "\n",
    "De même, nous allons isoler les trois lignes permettant de cacher le menu configuration dans une fonction dédiée à cela :\n",
    "\n",
    "- dans la fonction `animConfiMenu()`\n",
    "  - couper les trois lignes comprises entre `if menuConfigVisible:` et `else:`\n",
    "  - remplacer ces 3 lignes par un appel à la fonction `hideConfigMenu`\n",
    "- juste au dessus de  la fonction `animConfiMenu()`\n",
    "  - créer la fonction `hideConfigMenu()`\n",
    "  - coller le code\n",
    "  - modifier l'indentation pour qu'il n'y ai qu'une seule tabulation\n",
    "\n",
    "\n",
    "![](./2021-12-28/img_14.png)"
   ]
  },
  {
   "cell_type": "markdown",
   "id": "6671a184",
   "metadata": {},
   "source": [
    "Si l'application fonctionne toujours, utilisons la fonction `hideConfigMenu()` partout où elle sera utile :\n",
    "\n",
    "\n",
    "- dans la fonction `_ready()` pour cacher le menu dès que l'application s'affiche à l'écran\n",
    "  - remplacer `pass` par un appel à la fonction `hideConfigMenu()`. C\n",
    "- dans `_on_BackButton_gui_input` pour cacher le menu au lieu de l'animer\n",
    "- dans `_on_Main_gui_input` pour cacher le menu par un clic sur le fond (et pour ne pas le réafficher...)\n",
    "\n",
    "\n",
    "\n",
    "![](./2021-12-28/img_15.png)\n",
    "\n",
    "![](./2021-12-28/img_16.png)"
   ]
  },
  {
   "cell_type": "markdown",
   "id": "51b89146",
   "metadata": {},
   "source": []
  }
 ],
 "metadata": {
  "kernelspec": {
   "display_name": "Python 3",
   "language": "python",
   "name": "python3"
  },
  "language_info": {
   "codemirror_mode": {
    "name": "ipython",
    "version": 3
   },
   "file_extension": ".py",
   "mimetype": "text/x-python",
   "name": "python",
   "nbconvert_exporter": "python",
   "pygments_lexer": "ipython3",
   "version": "3.9.2"
  }
 },
 "nbformat": 4,
 "nbformat_minor": 5
}
