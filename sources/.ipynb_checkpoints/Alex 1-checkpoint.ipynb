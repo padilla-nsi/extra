{
 "cells": [
  {
   "cell_type": "markdown",
   "id": "placed-athens",
   "metadata": {
    "slideshow": {
     "slide_type": "slide"
    }
   },
   "source": [
    "Les différents types de valeurs\n",
    "\n",
    "il y a 3 grands types de données :\n",
    "\n",
    "- chaine\n",
    "- nombres\n",
    "- booléens"
   ]
  },
  {
   "cell_type": "markdown",
   "id": "interracial-sense",
   "metadata": {
    "slideshow": {
     "slide_type": "slide"
    }
   },
   "source": [
    "## Les chaines de caractères\n",
    "\n",
    "- les chaînes de caractères (`string`) : `'hello world'`, `'a'`, `'1234'`"
   ]
  },
  {
   "cell_type": "code",
   "execution_count": 24,
   "id": "fundamental-crack",
   "metadata": {
    "slideshow": {
     "slide_type": "subslide"
    }
   },
   "outputs": [
    {
     "name": "stdout",
     "output_type": "stream",
     "text": [
      "hello world! 1\n",
      "hello world! 2\n"
     ]
    }
   ],
   "source": [
    "# afficher une chaîne avec la fonction print(argument)\n",
    "# il faut que argument soit string\n",
    "print ('hello world! 1')\n",
    "print (\"hello world! 2\")"
   ]
  },
  {
   "cell_type": "markdown",
   "id": "adolescent-paintball",
   "metadata": {},
   "source": [
    "Quelles opérations avec les string ?\n",
    "\n",
    "- on peut ajouter  ` str1 + str2` OK => concaténation (colle les lettres)\n"
   ]
  },
  {
   "cell_type": "code",
   "execution_count": 26,
   "id": "white-xerox",
   "metadata": {},
   "outputs": [
    {
     "name": "stdout",
     "output_type": "stream",
     "text": [
      "helloworld!\n"
     ]
    }
   ],
   "source": [
    "print('hello' + 'world!')"
   ]
  },
  {
   "cell_type": "code",
   "execution_count": 31,
   "id": "classical-excitement",
   "metadata": {},
   "outputs": [],
   "source": [
    "# attention on ne peut pas concaténer les chaines et les entiers\n",
    "# la ligne suivante fait une erreur\n",
    "# print('hello' + 1)"
   ]
  },
  {
   "cell_type": "markdown",
   "id": "meaning-wonder",
   "metadata": {},
   "source": [
    "- on peut multiplier : `str * int`\n",
    "\n",
    "par exemple "
   ]
  },
  {
   "cell_type": "code",
   "execution_count": 40,
   "id": "forty-baking",
   "metadata": {},
   "outputs": [
    {
     "name": "stdout",
     "output_type": "stream",
     "text": [
      "hellohellohellohellohello\n",
      "hellohellohellohellohello\n"
     ]
    }
   ],
   "source": [
    "print('hello' + 'hello' + 'hello' + 'hello' + 'hello')\n",
    "print('hello' * 5)"
   ]
  },
  {
   "cell_type": "markdown",
   "id": "looking-example",
   "metadata": {},
   "source": [
    "## Les nombres"
   ]
  },
  {
   "cell_type": "markdown",
   "id": "every-violence",
   "metadata": {},
   "source": [
    "\n",
    "- les nombres :\n",
    "    - les nombres entiers (`int` ou `integer`) : `1`, `42`, `-12`\n",
    "    - les nombres décimaux (ou flottant) (`float`) : `1.5`, `-4.2`, `1.0`."
   ]
  },
  {
   "cell_type": "markdown",
   "id": "pregnant-indiana",
   "metadata": {},
   "source": [
    "les opérations de base sur les nombres : +, -, *, /"
   ]
  },
  {
   "cell_type": "code",
   "execution_count": 105,
   "id": "structured-papua",
   "metadata": {},
   "outputs": [
    {
     "name": "stdout",
     "output_type": "stream",
     "text": [
      "3\n",
      "3.1\n",
      "6\n",
      "6.0\n"
     ]
    }
   ],
   "source": [
    "print( 1 + 2 )\n",
    "print( 1 + 2.1)\n",
    "print( 2 * 3 )\n",
    "print( 2 * 3.0 )"
   ]
  },
  {
   "cell_type": "markdown",
   "id": "driven-plenty",
   "metadata": {},
   "source": [
    "On utilise aussi beaucoup 2 opérateurs arithmétiques :\n",
    "\n",
    "- la division entière : `//`\n",
    "- le reste de la division entière : `%`\n",
    "\n",
    "|Exemple|\n",
    "|-|\n",
    "|13 ÷ 6 = 2 et reste 1\n",
    "|14 ÷ 6 = 2 et reste 2\n",
    "|...\n",
    "|17 ÷ 6 = 2 et reste 5\n",
    "|18 ÷ 6 = 3 et reste 0\n",
    "|19 ÷ 6 = 3 et reste 1"
   ]
  },
  {
   "cell_type": "code",
   "execution_count": 114,
   "id": "processed-albany",
   "metadata": {},
   "outputs": [
    {
     "name": "stdout",
     "output_type": "stream",
     "text": [
      "13 // 6 = 2 et il reste 1\n",
      "14 // 6 = 2 et il reste 2\n",
      "15 // 6 = 2 et il reste 3\n",
      "16 // 6 = 2 et il reste 4\n",
      "17 // 6 = 2 et il reste 5\n",
      "18 // 6 = 3 et il reste 0\n",
      "19 // 6 = 3 et il reste 1\n"
     ]
    }
   ],
   "source": [
    "print( '13 // 6 = ' + str(13 // 6) + ' et il reste ' + str(13 % 6))\n",
    "print( '14 // 6 = ' + str(14 // 6) + ' et il reste ' + str(14 % 6))\n",
    "print( '15 // 6 = ' + str(15 // 6) + ' et il reste ' + str(15 % 6))\n",
    "print( '16 // 6 = ' + str(16 // 6) + ' et il reste ' + str(16 % 6))\n",
    "print( '17 // 6 = ' + str(17 // 6) + ' et il reste ' + str(17 % 6))\n",
    "print( '18 // 6 = ' + str(18 // 6) + ' et il reste ' + str(18 % 6))\n",
    "print( '19 // 6 = ' + str(19 // 6) + ' et il reste ' + str(19 % 6))"
   ]
  },
  {
   "cell_type": "markdown",
   "id": "obvious-problem",
   "metadata": {},
   "source": [
    "### Attention aux nombres flottants\n",
    "\n",
    "C'est pas bien à utiliser car un nb décimal est toujours une **approximation** ! \n",
    "\n",
    "en math, on a l'égalité suivante qui est **vraie** (en $=$ logique) :\n",
    "\n",
    "$$ 1,2 + 1,4 =  2,6 $$\n",
    "\n",
    "mais qui est fausse en informatique !"
   ]
  },
  {
   "cell_type": "code",
   "execution_count": 72,
   "id": "private-holocaust",
   "metadata": {},
   "outputs": [
    {
     "data": {
      "text/plain": [
       "False"
      ]
     },
     "execution_count": 72,
     "metadata": {},
     "output_type": "execute_result"
    }
   ],
   "source": [
    "1.4 + 1.2 == 2.6  # ERREUR informatique car normalement c'est VRAI"
   ]
  },
  {
   "cell_type": "markdown",
   "id": "adjustable-talent",
   "metadata": {},
   "source": [
    "Explication : c'est une erreur d'approximation !"
   ]
  },
  {
   "cell_type": "code",
   "execution_count": 73,
   "id": "starting-wells",
   "metadata": {},
   "outputs": [
    {
     "data": {
      "text/plain": [
       "2.5999999999999996"
      ]
     },
     "execution_count": 73,
     "metadata": {},
     "output_type": "execute_result"
    }
   ],
   "source": [
    "1.4 + 1.2  # car pour l'ordinateur 1.4 + 1.2 ne fait pas 2.6"
   ]
  },
  {
   "cell_type": "markdown",
   "id": "promotional-incidence",
   "metadata": {},
   "source": [
    "Encore un autre exemple d'erreur d'approximation "
   ]
  },
  {
   "cell_type": "code",
   "execution_count": 64,
   "id": "sharing-sheriff",
   "metadata": {},
   "outputs": [
    {
     "data": {
      "text/plain": [
       "True"
      ]
     },
     "execution_count": 64,
     "metadata": {},
     "output_type": "execute_result"
    }
   ],
   "source": [
    "1+1 == 2.0000000000000001"
   ]
  },
  {
   "cell_type": "markdown",
   "id": "stretch-endorsement",
   "metadata": {},
   "source": [
    "## Les booléens"
   ]
  },
  {
   "cell_type": "markdown",
   "id": "smart-commodity",
   "metadata": {},
   "source": [
    "\n",
    "- les booléens : un `bit` : `0` ou `1` (binary digit) :\n",
    "    - utile pour la logique : vrai (`true`) ou faux (`false`)\n",
    "    - utile pour les calculs binaires ou logique.  0 × 1 = 0 <=> (faux ET vrai) = faux\n",
    "    \n",
    "    si (je sors) ET (il pleut)\n",
    "    alors (je prends mon parapluie)\n",
    "    sinon (je prends mon chapeau)\n",
    "    \n",
    "    - (1) ET (1) => (1)\n",
    "    - (0) ET (1) => (0)\n",
    "    - (1) ET (0) => (0)\n",
    "    - (0) ET (0) => (0)\n",
    "    \n",
    "    - (1) OU (1) => (1)\n",
    "    - (0) OU (1) => (1)\n",
    "    - (1) OU (0) => (1)\n",
    "    - (0) OU (0) => (0)\n",
    "    "
   ]
  },
  {
   "cell_type": "code",
   "execution_count": 7,
   "id": "reported-kingdom",
   "metadata": {},
   "outputs": [
    {
     "data": {
      "text/plain": [
       "True"
      ]
     },
     "execution_count": 7,
     "metadata": {},
     "output_type": "execute_result"
    }
   ],
   "source": [
    "True and True and True"
   ]
  },
  {
   "cell_type": "code",
   "execution_count": 8,
   "id": "amber-backing",
   "metadata": {},
   "outputs": [
    {
     "data": {
      "text/plain": [
       "False"
      ]
     },
     "execution_count": 8,
     "metadata": {},
     "output_type": "execute_result"
    }
   ],
   "source": [
    "True and False"
   ]
  },
  {
   "cell_type": "code",
   "execution_count": 16,
   "id": "former-intake",
   "metadata": {},
   "outputs": [
    {
     "data": {
      "text/plain": [
       "True"
      ]
     },
     "execution_count": 16,
     "metadata": {},
     "output_type": "execute_result"
    }
   ],
   "source": [
    "False or True"
   ]
  },
  {
   "cell_type": "markdown",
   "id": "measured-parks",
   "metadata": {},
   "source": [
    "# Répétition (les boucles) (POUR n de 0 à 99)"
   ]
  },
  {
   "cell_type": "code",
   "execution_count": 118,
   "id": "incident-supervision",
   "metadata": {},
   "outputs": [
    {
     "name": "stdout",
     "output_type": "stream",
     "text": [
      "0 // 6 = 0 et il reste 0\n",
      "1 // 6 = 0 et il reste 1\n",
      "2 // 6 = 0 et il reste 2\n",
      "3 // 6 = 0 et il reste 3\n",
      "4 // 6 = 0 et il reste 4\n",
      "5 // 6 = 0 et il reste 5\n",
      "6 // 6 = 1 et il reste 0\n",
      "7 // 6 = 1 et il reste 1\n",
      "8 // 6 = 1 et il reste 2\n",
      "9 // 6 = 1 et il reste 3\n",
      "10 // 6 = 1 et il reste 4\n",
      "11 // 6 = 1 et il reste 5\n",
      "12 // 6 = 2 et il reste 0\n",
      "13 // 6 = 2 et il reste 1\n",
      "14 // 6 = 2 et il reste 2\n",
      "15 // 6 = 2 et il reste 3\n",
      "16 // 6 = 2 et il reste 4\n",
      "17 // 6 = 2 et il reste 5\n",
      "18 // 6 = 3 et il reste 0\n",
      "19 // 6 = 3 et il reste 1\n",
      "20 // 6 = 3 et il reste 2\n",
      "21 // 6 = 3 et il reste 3\n",
      "22 // 6 = 3 et il reste 4\n",
      "23 // 6 = 3 et il reste 5\n",
      "24 // 6 = 4 et il reste 0\n",
      "25 // 6 = 4 et il reste 1\n",
      "26 // 6 = 4 et il reste 2\n",
      "27 // 6 = 4 et il reste 3\n",
      "28 // 6 = 4 et il reste 4\n",
      "29 // 6 = 4 et il reste 5\n",
      "30 // 6 = 5 et il reste 0\n",
      "31 // 6 = 5 et il reste 1\n",
      "32 // 6 = 5 et il reste 2\n",
      "33 // 6 = 5 et il reste 3\n",
      "34 // 6 = 5 et il reste 4\n",
      "35 // 6 = 5 et il reste 5\n",
      "36 // 6 = 6 et il reste 0\n",
      "37 // 6 = 6 et il reste 1\n",
      "38 // 6 = 6 et il reste 2\n",
      "39 // 6 = 6 et il reste 3\n",
      "40 // 6 = 6 et il reste 4\n",
      "41 // 6 = 6 et il reste 5\n",
      "42 // 6 = 7 et il reste 0\n",
      "43 // 6 = 7 et il reste 1\n",
      "44 // 6 = 7 et il reste 2\n",
      "45 // 6 = 7 et il reste 3\n",
      "46 // 6 = 7 et il reste 4\n",
      "47 // 6 = 7 et il reste 5\n",
      "48 // 6 = 8 et il reste 0\n",
      "49 // 6 = 8 et il reste 1\n"
     ]
    }
   ],
   "source": [
    "for n in range(50):\n",
    "    print( f'{n} // 6 = ' + str(n // 6) + ' et il reste ' + str(n % 6))"
   ]
  },
  {
   "cell_type": "markdown",
   "id": "yellow-rochester",
   "metadata": {},
   "source": [
    "# Les instructions conditionnelles SI..SINON"
   ]
  },
  {
   "cell_type": "code",
   "execution_count": 133,
   "id": "simplified-pharmacology",
   "metadata": {},
   "outputs": [
    {
     "name": "stdout",
     "output_type": "stream",
     "text": [
      "0\n",
      "nul\n"
     ]
    }
   ],
   "source": [
    "n = int(input())\n",
    "\n",
    "if n >= 0:\n",
    "    if n == 0:\n",
    "        print(\"nul\")\n",
    "    else:\n",
    "        print(\"positif\")\n",
    "else:\n",
    "    print(\"négatif\")"
   ]
  },
  {
   "cell_type": "code",
   "execution_count": 129,
   "id": "temporal-lingerie",
   "metadata": {},
   "outputs": [
    {
     "data": {
      "text/plain": [
       "True"
      ]
     },
     "execution_count": 129,
     "metadata": {},
     "output_type": "execute_result"
    }
   ],
   "source": [
    "0 >= 0"
   ]
  }
 ],
 "metadata": {
  "celltoolbar": "Diaporama",
  "kernelspec": {
   "display_name": "Python 3",
   "language": "python",
   "name": "python3"
  },
  "language_info": {
   "codemirror_mode": {
    "name": "ipython",
    "version": 3
   },
   "file_extension": ".py",
   "mimetype": "text/x-python",
   "name": "python",
   "nbconvert_exporter": "python",
   "pygments_lexer": "ipython3",
   "version": "3.9.2"
  }
 },
 "nbformat": 4,
 "nbformat_minor": 5
}
