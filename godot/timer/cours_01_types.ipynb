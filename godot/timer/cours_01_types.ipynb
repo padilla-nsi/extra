{
 "cells": [
  {
   "cell_type": "markdown",
   "id": "b2be5a60",
   "metadata": {},
   "source": [
    "# Types de bases"
   ]
  },
  {
   "cell_type": "markdown",
   "id": "placed-athens",
   "metadata": {
    "slideshow": {
     "slide_type": "slide"
    }
   },
   "source": [
    "En informatique, il y a différents **types** de valeurs. Les 3 principaux types sont \n",
    "\n",
    "- les textes : *chaîne de caractère*\n",
    "- les nombres : *entier* et *décimaux*\n",
    "- les booléens : utilisés en logique"
   ]
  },
  {
   "cell_type": "markdown",
   "id": "interracial-sense",
   "metadata": {
    "slideshow": {
     "slide_type": "slide"
    }
   },
   "source": [
    "## Les chaines de caractères\n",
    "\n",
    "Quelques exemples de chaînes de caractères (`string` en anglais et en Python) :\n",
    "\n",
    "- `'hello world'` : message de bienvenu d'un informaticien normal\n",
    "- `'a'` : un caractère est une chaîne de caractère de taille 1\n",
    "- `'1234'` : 1234 sous forme de chaîne ne permet pas de faire de calculs : ce n'est qu'un texte sans signification."
   ]
  },
  {
   "cell_type": "markdown",
   "id": "c871c2fe",
   "metadata": {},
   "source": [
    "#### Afficher une chaînes"
   ]
  },
  {
   "cell_type": "markdown",
   "id": "459afe6a",
   "metadata": {},
   "source": [
    "La fonction`print` permet d'afficher des chaînes de caractères. Par exemple :"
   ]
  },
  {
   "cell_type": "code",
   "execution_count": 24,
   "id": "fundamental-crack",
   "metadata": {
    "slideshow": {
     "slide_type": "subslide"
    }
   },
   "outputs": [
    {
     "name": "stdout",
     "output_type": "stream",
     "text": [
      "hello world! 1\n",
      "hello world! 2\n"
     ]
    }
   ],
   "source": [
    "# afficher une chaîne avec la fonction print(argument)\n",
    "# il faut que argument soit string\n",
    "print ('hello world! 1')\n",
    "print (\"hello world! 2\")"
   ]
  },
  {
   "cell_type": "markdown",
   "id": "9d05688f",
   "metadata": {},
   "source": [
    "Dans des cas simple, la fonction `print` se charge de convertir son argument en chaîne de caractère.\n",
    "\n",
    "Par exemple ici, les trois instructions sont équivalentes :\n",
    "\n",
    "1. affiche la *chaîne de caractère* \n",
    "2. convertit *automatiquement* le nombre 1234 en chaîne de caractère **puis** affiche le résultat de cette conversion\n",
    "3. convertit *manuellement* le nombre 1234 (avec `str(1234)`) en chaîne de caractère **puis** affiche le résultat de cette conversion"
   ]
  },
  {
   "cell_type": "code",
   "execution_count": 2,
   "id": "6b41faee",
   "metadata": {},
   "outputs": [
    {
     "name": "stdout",
     "output_type": "stream",
     "text": [
      "1234\n",
      "1234\n",
      "1234\n"
     ]
    }
   ],
   "source": [
    "print('1234')\n",
    "print(1234)\n",
    "print(str(1234))"
   ]
  },
  {
   "cell_type": "markdown",
   "id": "941de1c9",
   "metadata": {},
   "source": [
    "#### Quelques opérations possibles avec les chaînes"
   ]
  },
  {
   "cell_type": "markdown",
   "id": "adolescent-paintball",
   "metadata": {},
   "source": [
    "Quelles opérations avec les string ?\n",
    "\n",
    "- on peut ajouter/additionner des chaînes :  ` str1 + str2` ==> `str3` la *concaténation* (colle les lettres)\n"
   ]
  },
  {
   "cell_type": "code",
   "execution_count": 26,
   "id": "white-xerox",
   "metadata": {},
   "outputs": [
    {
     "name": "stdout",
     "output_type": "stream",
     "text": [
      "helloworld!\n"
     ]
    }
   ],
   "source": [
    "print('hello' + 'world!')"
   ]
  },
  {
   "cell_type": "code",
   "execution_count": 3,
   "id": "classical-excitement",
   "metadata": {},
   "outputs": [
    {
     "ename": "TypeError",
     "evalue": "can only concatenate str (not \"int\") to str",
     "output_type": "error",
     "traceback": [
      "\u001b[0;31m---------------------------------------------------------------------------\u001b[0m",
      "\u001b[0;31mTypeError\u001b[0m                                 Traceback (most recent call last)",
      "\u001b[0;32m/tmp/ipykernel_7136/3735387800.py\u001b[0m in \u001b[0;36m<module>\u001b[0;34m\u001b[0m\n\u001b[1;32m      2\u001b[0m \u001b[0;31m# la ligne suivante produit une erreur\u001b[0m\u001b[0;34m\u001b[0m\u001b[0;34m\u001b[0m\u001b[0;34m\u001b[0m\u001b[0m\n\u001b[1;32m      3\u001b[0m \u001b[0;34m\u001b[0m\u001b[0m\n\u001b[0;32m----> 4\u001b[0;31m \u001b[0mprint\u001b[0m\u001b[0;34m(\u001b[0m\u001b[0;34m'hello'\u001b[0m \u001b[0;34m+\u001b[0m \u001b[0;36m1\u001b[0m\u001b[0;34m)\u001b[0m\u001b[0;34m\u001b[0m\u001b[0;34m\u001b[0m\u001b[0m\n\u001b[0m",
      "\u001b[0;31mTypeError\u001b[0m: can only concatenate str (not \"int\") to str"
     ]
    }
   ],
   "source": [
    "# attention on ne peut pas concaténer les chaines et les entiers\n",
    "# la ligne suivante produit une erreur\n",
    "# \"can only concatenate str (not \"int\") to str\"\n",
    "# \"ne peut concatener les str qu'avec des str (et pas des 'int')\"\n",
    "\n",
    "print('hello' + 1)"
   ]
  },
  {
   "cell_type": "markdown",
   "id": "meaning-wonder",
   "metadata": {},
   "source": [
    "- on peut multiplier une chaîne et un nombre entier : `str * int` ==> `str2` multiples concaténation de `str`\n",
    "\n",
    "Par exemple :"
   ]
  },
  {
   "cell_type": "code",
   "execution_count": 40,
   "id": "forty-baking",
   "metadata": {},
   "outputs": [
    {
     "name": "stdout",
     "output_type": "stream",
     "text": [
      "hellohellohellohellohello\n",
      "hellohellohellohellohello\n"
     ]
    }
   ],
   "source": [
    "print('hello' + 'hello' + 'hello' + 'hello' + 'hello')\n",
    "print('hello' * 5)"
   ]
  },
  {
   "cell_type": "markdown",
   "id": "looking-example",
   "metadata": {},
   "source": [
    "## Les nombres"
   ]
  },
  {
   "cell_type": "markdown",
   "id": "every-violence",
   "metadata": {},
   "source": [
    "\n",
    "- les nombres :\n",
    "    - les nombres entiers (`int` ou `integer`) : `1`, `42`, `-12`\n",
    "    - les nombres décimaux (ou flottant) (`float`) : `1.5`, `-4.2`, `1.0`."
   ]
  },
  {
   "cell_type": "markdown",
   "id": "pregnant-indiana",
   "metadata": {},
   "source": [
    "les opérations de base sur les nombres : +, -, *, /"
   ]
  },
  {
   "cell_type": "code",
   "execution_count": 105,
   "id": "structured-papua",
   "metadata": {},
   "outputs": [
    {
     "name": "stdout",
     "output_type": "stream",
     "text": [
      "3\n",
      "3.1\n",
      "6\n",
      "6.0\n"
     ]
    }
   ],
   "source": [
    "print( 1 + 2 )\n",
    "print( 1 + 2.1)\n",
    "print( 2 * 3 )\n",
    "print( 2 * 3.0 )"
   ]
  },
  {
   "cell_type": "markdown",
   "id": "driven-plenty",
   "metadata": {},
   "source": [
    "On utilise aussi beaucoup 2 opérateurs arithmétiques :\n",
    "\n",
    "- la division entière : `//`\n",
    "- le reste de la division entière : `%`\n",
    "\n",
    "|Exemple|\n",
    "|-|\n",
    "|13 ÷ 6 = 2 et reste 1\n",
    "|14 ÷ 6 = 2 et reste 2\n",
    "|...\n",
    "|17 ÷ 6 = 2 et reste 5\n",
    "|18 ÷ 6 = 3 et reste 0\n",
    "|19 ÷ 6 = 3 et reste 1"
   ]
  },
  {
   "cell_type": "code",
   "execution_count": 114,
   "id": "processed-albany",
   "metadata": {},
   "outputs": [
    {
     "name": "stdout",
     "output_type": "stream",
     "text": [
      "13 // 6 = 2 et il reste 1\n",
      "14 // 6 = 2 et il reste 2\n",
      "15 // 6 = 2 et il reste 3\n",
      "16 // 6 = 2 et il reste 4\n",
      "17 // 6 = 2 et il reste 5\n",
      "18 // 6 = 3 et il reste 0\n",
      "19 // 6 = 3 et il reste 1\n"
     ]
    }
   ],
   "source": [
    "print( '13 // 6 = ' + str(13 // 6) + ' et il reste ' + str(13 % 6))\n",
    "print( '14 // 6 = ' + str(14 // 6) + ' et il reste ' + str(14 % 6))\n",
    "print( '15 // 6 = ' + str(15 // 6) + ' et il reste ' + str(15 % 6))\n",
    "print( '16 // 6 = ' + str(16 // 6) + ' et il reste ' + str(16 % 6))\n",
    "print( '17 // 6 = ' + str(17 // 6) + ' et il reste ' + str(17 % 6))\n",
    "print( '18 // 6 = ' + str(18 // 6) + ' et il reste ' + str(18 % 6))\n",
    "print( '19 // 6 = ' + str(19 // 6) + ' et il reste ' + str(19 % 6))"
   ]
  },
  {
   "cell_type": "markdown",
   "id": "obvious-problem",
   "metadata": {},
   "source": [
    "### Attention aux nombres flottants\n",
    "\n",
    "C'est pas bien à utiliser car un nb décimal est toujours une **approximation** ! \n",
    "\n",
    "en math, on a l'égalité suivante qui est **vraie** (en $=$ logique) :\n",
    "\n",
    "$$ 1,2 + 1,4 =  2,6 $$\n",
    "\n",
    "mais qui est fausse en informatique !"
   ]
  },
  {
   "cell_type": "code",
   "execution_count": 4,
   "id": "private-holocaust",
   "metadata": {},
   "outputs": [
    {
     "data": {
      "text/plain": [
       "False"
      ]
     },
     "execution_count": 4,
     "metadata": {},
     "output_type": "execute_result"
    }
   ],
   "source": [
    "1.4 + 1.2 == 2.6  \n",
    "\n",
    "# ERREUR informatique :\n",
    "# le programme affiche `False`\n",
    "# alors que mathématiquement cette égalité est VRAIE"
   ]
  },
  {
   "cell_type": "markdown",
   "id": "adjustable-talent",
   "metadata": {},
   "source": [
    "Explication : c'est une erreur d'approximation !"
   ]
  },
  {
   "cell_type": "code",
   "execution_count": 5,
   "id": "starting-wells",
   "metadata": {},
   "outputs": [
    {
     "data": {
      "text/plain": [
       "2.5999999999999996"
      ]
     },
     "execution_count": 5,
     "metadata": {},
     "output_type": "execute_result"
    }
   ],
   "source": [
    "1.4 + 1.2  \n",
    "\n",
    "# Erreur informatique : 1.4 + 1.2 = 2.5999999999999996 !!\n",
    "# donc pour l'ordinateur 1.4 + 1.2 ne fait pas 2.6 !"
   ]
  },
  {
   "cell_type": "markdown",
   "id": "promotional-incidence",
   "metadata": {},
   "source": [
    "Encore un autre exemple d'erreur d'approximation "
   ]
  },
  {
   "cell_type": "code",
   "execution_count": 6,
   "id": "sharing-sheriff",
   "metadata": {},
   "outputs": [
    {
     "data": {
      "text/plain": [
       "True"
      ]
     },
     "execution_count": 6,
     "metadata": {},
     "output_type": "execute_result"
    }
   ],
   "source": [
    "1 + 1 == 2.0000000000000001\n",
    "\n",
    "# Erreur informatique \n",
    "# le programme affiche `True`\n",
    "# alors que cette égalité est fausse."
   ]
  },
  {
   "cell_type": "markdown",
   "id": "stretch-endorsement",
   "metadata": {},
   "source": [
    "## Les booléens"
   ]
  },
  {
   "cell_type": "markdown",
   "id": "smart-commodity",
   "metadata": {},
   "source": [
    "\n",
    "- les booléens : un `bit` : `0` ou `1` (binary digit) :\n",
    "    - utile pour la logique : vrai (`true`) ou faux (`false`)\n",
    "    - utile pour les calculs binaires ou logique.  0 × 1 = 0 <=> (faux ET vrai) = faux\n",
    "    \n",
    "    si (je sors) ET (il pleut)\n",
    "    alors (je prends mon parapluie)\n",
    "    sinon (je prends mon chapeau)\n",
    "    \n",
    "    - (1) ET (1) => (1)\n",
    "    - (0) ET (1) => (0)\n",
    "    - (1) ET (0) => (0)\n",
    "    - (0) ET (0) => (0)\n",
    "    \n",
    "    - (1) OU (1) => (1)\n",
    "    - (0) OU (1) => (1)\n",
    "    - (1) OU (0) => (1)\n",
    "    - (0) OU (0) => (0)\n",
    "    "
   ]
  },
  {
   "cell_type": "code",
   "execution_count": 7,
   "id": "reported-kingdom",
   "metadata": {},
   "outputs": [
    {
     "data": {
      "text/plain": [
       "True"
      ]
     },
     "execution_count": 7,
     "metadata": {},
     "output_type": "execute_result"
    }
   ],
   "source": [
    "True and True and True"
   ]
  },
  {
   "cell_type": "code",
   "execution_count": 8,
   "id": "amber-backing",
   "metadata": {},
   "outputs": [
    {
     "data": {
      "text/plain": [
       "False"
      ]
     },
     "execution_count": 8,
     "metadata": {},
     "output_type": "execute_result"
    }
   ],
   "source": [
    "True and False"
   ]
  },
  {
   "cell_type": "code",
   "execution_count": 16,
   "id": "former-intake",
   "metadata": {},
   "outputs": [
    {
     "data": {
      "text/plain": [
       "True"
      ]
     },
     "execution_count": 16,
     "metadata": {},
     "output_type": "execute_result"
    }
   ],
   "source": [
    "False or True"
   ]
  },
  {
   "cell_type": "markdown",
   "id": "measured-parks",
   "metadata": {},
   "source": [
    "# Répétition (les boucles) (POUR n de 0 à 99)"
   ]
  },
  {
   "cell_type": "code",
   "execution_count": 118,
   "id": "incident-supervision",
   "metadata": {},
   "outputs": [
    {
     "name": "stdout",
     "output_type": "stream",
     "text": [
      "0 // 6 = 0 et il reste 0\n",
      "1 // 6 = 0 et il reste 1\n",
      "2 // 6 = 0 et il reste 2\n",
      "3 // 6 = 0 et il reste 3\n",
      "4 // 6 = 0 et il reste 4\n",
      "5 // 6 = 0 et il reste 5\n",
      "6 // 6 = 1 et il reste 0\n",
      "7 // 6 = 1 et il reste 1\n",
      "8 // 6 = 1 et il reste 2\n",
      "9 // 6 = 1 et il reste 3\n",
      "10 // 6 = 1 et il reste 4\n",
      "11 // 6 = 1 et il reste 5\n",
      "12 // 6 = 2 et il reste 0\n",
      "13 // 6 = 2 et il reste 1\n",
      "14 // 6 = 2 et il reste 2\n",
      "15 // 6 = 2 et il reste 3\n",
      "16 // 6 = 2 et il reste 4\n",
      "17 // 6 = 2 et il reste 5\n",
      "18 // 6 = 3 et il reste 0\n",
      "19 // 6 = 3 et il reste 1\n",
      "20 // 6 = 3 et il reste 2\n",
      "21 // 6 = 3 et il reste 3\n",
      "22 // 6 = 3 et il reste 4\n",
      "23 // 6 = 3 et il reste 5\n",
      "24 // 6 = 4 et il reste 0\n",
      "25 // 6 = 4 et il reste 1\n",
      "26 // 6 = 4 et il reste 2\n",
      "27 // 6 = 4 et il reste 3\n",
      "28 // 6 = 4 et il reste 4\n",
      "29 // 6 = 4 et il reste 5\n",
      "30 // 6 = 5 et il reste 0\n",
      "31 // 6 = 5 et il reste 1\n",
      "32 // 6 = 5 et il reste 2\n",
      "33 // 6 = 5 et il reste 3\n",
      "34 // 6 = 5 et il reste 4\n",
      "35 // 6 = 5 et il reste 5\n",
      "36 // 6 = 6 et il reste 0\n",
      "37 // 6 = 6 et il reste 1\n",
      "38 // 6 = 6 et il reste 2\n",
      "39 // 6 = 6 et il reste 3\n",
      "40 // 6 = 6 et il reste 4\n",
      "41 // 6 = 6 et il reste 5\n",
      "42 // 6 = 7 et il reste 0\n",
      "43 // 6 = 7 et il reste 1\n",
      "44 // 6 = 7 et il reste 2\n",
      "45 // 6 = 7 et il reste 3\n",
      "46 // 6 = 7 et il reste 4\n",
      "47 // 6 = 7 et il reste 5\n",
      "48 // 6 = 8 et il reste 0\n",
      "49 // 6 = 8 et il reste 1\n"
     ]
    }
   ],
   "source": [
    "for n in range(50):\n",
    "    print( f'{n} // 6 = ' + str(n // 6) + ' et il reste ' + str(n % 6))"
   ]
  },
  {
   "cell_type": "markdown",
   "id": "yellow-rochester",
   "metadata": {},
   "source": [
    "# Les instructions conditionnelles SI..SINON"
   ]
  },
  {
   "cell_type": "markdown",
   "id": "a8fc4c48",
   "metadata": {},
   "source": [
    "![](2021-12-02/img_if_elif_else.png)"
   ]
  },
  {
   "cell_type": "code",
   "execution_count": 133,
   "id": "simplified-pharmacology",
   "metadata": {},
   "outputs": [
    {
     "name": "stdout",
     "output_type": "stream",
     "text": [
      "0\n",
      "nul\n"
     ]
    }
   ],
   "source": [
    "n = int(input())\n",
    "\n",
    "if n >= 0:\n",
    "    if n == 0:\n",
    "        print(\"nul\")\n",
    "    else:\n",
    "        print(\"positif\")\n",
    "else:\n",
    "    print(\"négatif\")"
   ]
  },
  {
   "cell_type": "code",
   "execution_count": 129,
   "id": "temporal-lingerie",
   "metadata": {},
   "outputs": [
    {
     "data": {
      "text/plain": [
       "True"
      ]
     },
     "execution_count": 129,
     "metadata": {},
     "output_type": "execute_result"
    }
   ],
   "source": [
    "0 >= 0"
   ]
  }
 ],
 "metadata": {
  "celltoolbar": "Diaporama",
  "kernelspec": {
   "display_name": "Python 3",
   "language": "python",
   "name": "python3"
  },
  "language_info": {
   "codemirror_mode": {
    "name": "ipython",
    "version": 3
   },
   "file_extension": ".py",
   "mimetype": "text/x-python",
   "name": "python",
   "nbconvert_exporter": "python",
   "pygments_lexer": "ipython3",
   "version": "3.9.2"
  }
 },
 "nbformat": 4,
 "nbformat_minor": 5
}
